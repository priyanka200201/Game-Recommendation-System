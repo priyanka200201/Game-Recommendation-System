{
 "cells": [
  {
   "cell_type": "code",
   "execution_count": 2,
   "id": "27b98d7e-4b61-4076-89b1-1eee753ddc48",
   "metadata": {},
   "outputs": [],
   "source": [
    "import numpy as np\n",
    "import pandas as pd"
   ]
  },
  {
   "cell_type": "code",
   "execution_count": 3,
   "id": "b25eb0ee-57bb-411c-bd54-472a88bf359b",
   "metadata": {},
   "outputs": [],
   "source": [
    "games = pd.read_csv('data.csv')"
   ]
  },
  {
   "cell_type": "code",
   "execution_count": 51,
   "id": "fcafe35d-8aef-4978-8243-c5180042e653",
   "metadata": {},
   "outputs": [
    {
     "data": {
      "text/html": [
       "<div>\n",
       "<style scoped>\n",
       "    .dataframe tbody tr th:only-of-type {\n",
       "        vertical-align: middle;\n",
       "    }\n",
       "\n",
       "    .dataframe tbody tr th {\n",
       "        vertical-align: top;\n",
       "    }\n",
       "\n",
       "    .dataframe thead th {\n",
       "        text-align: right;\n",
       "    }\n",
       "</style>\n",
       "<table border=\"1\" class=\"dataframe\">\n",
       "  <thead>\n",
       "    <tr style=\"text-align: right;\">\n",
       "      <th></th>\n",
       "      <th>type</th>\n",
       "      <th>name</th>\n",
       "      <th>steam_appid</th>\n",
       "      <th>required_age</th>\n",
       "      <th>is_free</th>\n",
       "      <th>controller_support</th>\n",
       "      <th>dlc</th>\n",
       "      <th>detailed_description</th>\n",
       "      <th>about_the_game</th>\n",
       "      <th>short_description</th>\n",
       "      <th>...</th>\n",
       "      <th>categories</th>\n",
       "      <th>genres</th>\n",
       "      <th>screenshots</th>\n",
       "      <th>movies</th>\n",
       "      <th>recommendations</th>\n",
       "      <th>achievements</th>\n",
       "      <th>release_date</th>\n",
       "      <th>support_info</th>\n",
       "      <th>background</th>\n",
       "      <th>content_descriptors</th>\n",
       "    </tr>\n",
       "  </thead>\n",
       "  <tbody>\n",
       "    <tr>\n",
       "      <th>0</th>\n",
       "      <td>game</td>\n",
       "      <td>Counter-Strike</td>\n",
       "      <td>10</td>\n",
       "      <td>0.0</td>\n",
       "      <td>False</td>\n",
       "      <td>NaN</td>\n",
       "      <td>NaN</td>\n",
       "      <td>Play the world's number 1 online action game. ...</td>\n",
       "      <td>Play the world's number 1 online action game. ...</td>\n",
       "      <td>Play the world's number 1 online action game. ...</td>\n",
       "      <td>...</td>\n",
       "      <td>[{'id': 1, 'description': 'Multi-player'}, {'i...</td>\n",
       "      <td>[{'id': '1', 'description': 'Action'}]</td>\n",
       "      <td>[{'id': 0, 'path_thumbnail': 'https://cdn.akam...</td>\n",
       "      <td>NaN</td>\n",
       "      <td>{'total': 137378}</td>\n",
       "      <td>NaN</td>\n",
       "      <td>{'coming_soon': False, 'date': '1 Nov, 2000'}</td>\n",
       "      <td>{'url': 'http://steamcommunity.com/app/10', 'e...</td>\n",
       "      <td>https://cdn.akamai.steamstatic.com/steam/apps/...</td>\n",
       "      <td>{'ids': [2, 5], 'notes': 'Includes intense vio...</td>\n",
       "    </tr>\n",
       "  </tbody>\n",
       "</table>\n",
       "<p>1 rows × 39 columns</p>\n",
       "</div>"
      ],
      "text/plain": [
       "   type            name  steam_appid  required_age is_free controller_support  \\\n",
       "0  game  Counter-Strike           10           0.0   False                NaN   \n",
       "\n",
       "   dlc                               detailed_description  \\\n",
       "0  NaN  Play the world's number 1 online action game. ...   \n",
       "\n",
       "                                      about_the_game  \\\n",
       "0  Play the world's number 1 online action game. ...   \n",
       "\n",
       "                                   short_description  ...  \\\n",
       "0  Play the world's number 1 online action game. ...  ...   \n",
       "\n",
       "                                          categories  \\\n",
       "0  [{'id': 1, 'description': 'Multi-player'}, {'i...   \n",
       "\n",
       "                                   genres  \\\n",
       "0  [{'id': '1', 'description': 'Action'}]   \n",
       "\n",
       "                                         screenshots movies  \\\n",
       "0  [{'id': 0, 'path_thumbnail': 'https://cdn.akam...    NaN   \n",
       "\n",
       "     recommendations achievements  \\\n",
       "0  {'total': 137378}          NaN   \n",
       "\n",
       "                                    release_date  \\\n",
       "0  {'coming_soon': False, 'date': '1 Nov, 2000'}   \n",
       "\n",
       "                                        support_info  \\\n",
       "0  {'url': 'http://steamcommunity.com/app/10', 'e...   \n",
       "\n",
       "                                          background  \\\n",
       "0  https://cdn.akamai.steamstatic.com/steam/apps/...   \n",
       "\n",
       "                                 content_descriptors  \n",
       "0  {'ids': [2, 5], 'notes': 'Includes intense vio...  \n",
       "\n",
       "[1 rows x 39 columns]"
      ]
     },
     "execution_count": 51,
     "metadata": {},
     "output_type": "execute_result"
    }
   ],
   "source": [
    "games.head(1)"
   ]
  },
  {
   "cell_type": "code",
   "execution_count": 52,
   "id": "16ee0833-1ae1-46c2-9e2f-b6431fecf985",
   "metadata": {},
   "outputs": [
    {
     "data": {
      "text/plain": [
       "(1000, 39)"
      ]
     },
     "execution_count": 52,
     "metadata": {},
     "output_type": "execute_result"
    }
   ],
   "source": [
    "games.shape"
   ]
  },
  {
   "cell_type": "code",
   "execution_count": 53,
   "id": "78ff0b09-74cf-42ce-b25a-f1900633fec9",
   "metadata": {},
   "outputs": [
    {
     "name": "stdout",
     "output_type": "stream",
     "text": [
      "<class 'pandas.core.frame.DataFrame'>\n",
      "RangeIndex: 1000 entries, 0 to 999\n",
      "Data columns (total 39 columns):\n",
      " #   Column                   Non-Null Count  Dtype  \n",
      "---  ------                   --------------  -----  \n",
      " 0   type                     994 non-null    object \n",
      " 1   name                     1000 non-null   object \n",
      " 2   steam_appid              1000 non-null   int64  \n",
      " 3   required_age             994 non-null    float64\n",
      " 4   is_free                  994 non-null    object \n",
      " 5   controller_support       407 non-null    object \n",
      " 6   dlc                      557 non-null    object \n",
      " 7   detailed_description     994 non-null    object \n",
      " 8   about_the_game           994 non-null    object \n",
      " 9   short_description        994 non-null    object \n",
      " 10  fullgame                 0 non-null      float64\n",
      " 11  supported_languages      994 non-null    object \n",
      " 12  header_image             994 non-null    object \n",
      " 13  website                  874 non-null    object \n",
      " 14  pc_requirements          994 non-null    object \n",
      " 15  mac_requirements         994 non-null    object \n",
      " 16  linux_requirements       994 non-null    object \n",
      " 17  legal_notice             725 non-null    object \n",
      " 18  drm_notice               71 non-null     object \n",
      " 19  ext_user_account_notice  111 non-null    object \n",
      " 20  developers               993 non-null    object \n",
      " 21  publishers               994 non-null    object \n",
      " 22  demos                    108 non-null    object \n",
      " 23  price_overview           721 non-null    object \n",
      " 24  packages                 794 non-null    object \n",
      " 25  package_groups           994 non-null    object \n",
      " 26  platforms                994 non-null    object \n",
      " 27  metacritic               586 non-null    object \n",
      " 28  reviews                  372 non-null    object \n",
      " 29  categories               992 non-null    object \n",
      " 30  genres                   992 non-null    object \n",
      " 31  screenshots              994 non-null    object \n",
      " 32  movies                   861 non-null    object \n",
      " 33  recommendations          918 non-null    object \n",
      " 34  achievements             739 non-null    object \n",
      " 35  release_date             994 non-null    object \n",
      " 36  support_info             994 non-null    object \n",
      " 37  background               994 non-null    object \n",
      " 38  content_descriptors      994 non-null    object \n",
      "dtypes: float64(2), int64(1), object(36)\n",
      "memory usage: 304.8+ KB\n"
     ]
    }
   ],
   "source": [
    "games.info()"
   ]
  },
  {
   "cell_type": "code",
   "execution_count": 54,
   "id": "cfb1724d-2d97-49f2-9097-1e73b2ed6485",
   "metadata": {},
   "outputs": [],
   "source": [
    "new_column_names = {'steam_appid': 'ID', 'name': 'Title', 'detailed_description': 'Description', 'developers': 'Developers', 'publishers': 'Publishers', 'categories': 'Categories', 'genres': 'Genres'}\n",
    "games.rename(columns=new_column_names, inplace=True)"
   ]
  },
  {
   "cell_type": "code",
   "execution_count": 55,
   "id": "a1d67e1f-5316-47a5-8952-f71927abf746",
   "metadata": {},
   "outputs": [],
   "source": [
    "games = games[['ID', 'Title', 'Description', 'Developers', 'Publishers', 'Categories', 'Genres']]"
   ]
  },
  {
   "cell_type": "code",
   "execution_count": 56,
   "id": "2155d57e-4b6d-425e-9df0-0d5a9b71fa1a",
   "metadata": {},
   "outputs": [
    {
     "data": {
      "text/html": [
       "<div>\n",
       "<style scoped>\n",
       "    .dataframe tbody tr th:only-of-type {\n",
       "        vertical-align: middle;\n",
       "    }\n",
       "\n",
       "    .dataframe tbody tr th {\n",
       "        vertical-align: top;\n",
       "    }\n",
       "\n",
       "    .dataframe thead th {\n",
       "        text-align: right;\n",
       "    }\n",
       "</style>\n",
       "<table border=\"1\" class=\"dataframe\">\n",
       "  <thead>\n",
       "    <tr style=\"text-align: right;\">\n",
       "      <th></th>\n",
       "      <th>ID</th>\n",
       "      <th>Title</th>\n",
       "      <th>Description</th>\n",
       "      <th>Developers</th>\n",
       "      <th>Publishers</th>\n",
       "      <th>Categories</th>\n",
       "      <th>Genres</th>\n",
       "    </tr>\n",
       "  </thead>\n",
       "  <tbody>\n",
       "    <tr>\n",
       "      <th>0</th>\n",
       "      <td>10</td>\n",
       "      <td>Counter-Strike</td>\n",
       "      <td>Play the world's number 1 online action game. ...</td>\n",
       "      <td>['Valve']</td>\n",
       "      <td>['Valve']</td>\n",
       "      <td>[{'id': 1, 'description': 'Multi-player'}, {'i...</td>\n",
       "      <td>[{'id': '1', 'description': 'Action'}]</td>\n",
       "    </tr>\n",
       "  </tbody>\n",
       "</table>\n",
       "</div>"
      ],
      "text/plain": [
       "   ID           Title                                        Description  \\\n",
       "0  10  Counter-Strike  Play the world's number 1 online action game. ...   \n",
       "\n",
       "  Developers Publishers                                         Categories  \\\n",
       "0  ['Valve']  ['Valve']  [{'id': 1, 'description': 'Multi-player'}, {'i...   \n",
       "\n",
       "                                   Genres  \n",
       "0  [{'id': '1', 'description': 'Action'}]  "
      ]
     },
     "execution_count": 56,
     "metadata": {},
     "output_type": "execute_result"
    }
   ],
   "source": [
    "games.head(1)"
   ]
  },
  {
   "cell_type": "code",
   "execution_count": 57,
   "id": "2ee416bd-63f1-42db-ac3e-a19afed4f1fc",
   "metadata": {},
   "outputs": [
    {
     "data": {
      "text/plain": [
       "ID             0\n",
       "Title          0\n",
       "Description    6\n",
       "Developers     7\n",
       "Publishers     6\n",
       "Categories     8\n",
       "Genres         8\n",
       "dtype: int64"
      ]
     },
     "execution_count": 57,
     "metadata": {},
     "output_type": "execute_result"
    }
   ],
   "source": [
    "games.isnull().sum()"
   ]
  },
  {
   "cell_type": "code",
   "execution_count": 58,
   "id": "12ae941b-a16b-4dea-93d2-5cb7263cf736",
   "metadata": {},
   "outputs": [],
   "source": [
    "games.dropna(inplace = True)"
   ]
  },
  {
   "cell_type": "code",
   "execution_count": 59,
   "id": "38f650f5-acee-48d9-8559-fca7d5e11806",
   "metadata": {},
   "outputs": [
    {
     "data": {
      "text/plain": [
       "ID             0\n",
       "Title          0\n",
       "Description    0\n",
       "Developers     0\n",
       "Publishers     0\n",
       "Categories     0\n",
       "Genres         0\n",
       "dtype: int64"
      ]
     },
     "execution_count": 59,
     "metadata": {},
     "output_type": "execute_result"
    }
   ],
   "source": [
    "games.isnull().sum()"
   ]
  },
  {
   "cell_type": "code",
   "execution_count": 60,
   "id": "20d37a06-accd-47d3-9804-eb9b29128a3d",
   "metadata": {},
   "outputs": [
    {
     "data": {
      "text/plain": [
       "1"
      ]
     },
     "execution_count": 60,
     "metadata": {},
     "output_type": "execute_result"
    }
   ],
   "source": [
    "games.duplicated().sum()"
   ]
  },
  {
   "cell_type": "code",
   "execution_count": 61,
   "id": "539522d5-1231-4198-a76b-5d64033dce3d",
   "metadata": {},
   "outputs": [],
   "source": [
    "games.drop_duplicates(inplace=True)"
   ]
  },
  {
   "cell_type": "code",
   "execution_count": 62,
   "id": "d6d6e20f-9fd2-41a7-bae7-e1d286b65e4c",
   "metadata": {},
   "outputs": [
    {
     "data": {
      "text/plain": [
       "0"
      ]
     },
     "execution_count": 62,
     "metadata": {},
     "output_type": "execute_result"
    }
   ],
   "source": [
    "games.duplicated().sum()"
   ]
  },
  {
   "cell_type": "code",
   "execution_count": 63,
   "id": "f2237a8f-44d6-499d-b203-9e5140e7f00a",
   "metadata": {},
   "outputs": [
    {
     "data": {
      "text/plain": [
       "\"[{'id': 1, 'description': 'Multi-player'}, {'id': 49, 'description': 'PvP'}, {'id': 36, 'description': 'Online PvP'}, {'id': 37, 'description': 'Shared/Split Screen PvP'}, {'id': 8, 'description': 'Valve Anti-Cheat enabled'}]\""
      ]
     },
     "execution_count": 63,
     "metadata": {},
     "output_type": "execute_result"
    }
   ],
   "source": [
    "games.iloc[0].Categories"
   ]
  },
  {
   "cell_type": "code",
   "execution_count": 64,
   "id": "9c4828d1-103a-4724-b681-0106c6d4a61e",
   "metadata": {},
   "outputs": [
    {
     "data": {
      "text/plain": [
       "[{'id': 1, 'description': 'Multi-player'},\n",
       " {'id': 49, 'description': 'PvP'},\n",
       " {'id': 36, 'description': 'Online PvP'},\n",
       " {'id': 37, 'description': 'Shared/Split Screen PvP'},\n",
       " {'id': 8, 'description': 'Valve Anti-Cheat enabled'}]"
      ]
     },
     "execution_count": 64,
     "metadata": {},
     "output_type": "execute_result"
    }
   ],
   "source": [
    "import ast\n",
    "ast.literal_eval(\"[{'id': 1, 'description': 'Multi-player'}, {'id': 49, 'description': 'PvP'}, {'id': 36, 'description': 'Online PvP'}, {'id': 37, 'description': 'Shared/Split Screen PvP'}, {'id': 8, 'description': 'Valve Anti-Cheat enabled'}]\")"
   ]
  },
  {
   "cell_type": "code",
   "execution_count": 65,
   "id": "057666b1-297f-40cc-8ad4-32855602b8cf",
   "metadata": {},
   "outputs": [],
   "source": [
    "def convert(obj):\n",
    "    L = []\n",
    "    for i in ast.literal_eval(obj):\n",
    "        L.append(i['description'])\n",
    "    return L"
   ]
  },
  {
   "cell_type": "code",
   "execution_count": 66,
   "id": "bc810937-0ad2-45c8-81a4-0b0ad04e5060",
   "metadata": {},
   "outputs": [
    {
     "data": {
      "text/plain": [
       "0      [Multi-player, PvP, Online PvP, Shared/Split S...\n",
       "1      [Multi-player, PvP, Online PvP, Shared/Split S...\n",
       "2               [Multi-player, Valve Anti-Cheat enabled]\n",
       "3      [Multi-player, PvP, Online PvP, Shared/Split S...\n",
       "4      [Single-player, Multi-player, Valve Anti-Cheat...\n",
       "                             ...                        \n",
       "995    [Single-player, Steam Achievements, Full contr...\n",
       "996    [Single-player, Multi-player, Co-op, Online Co...\n",
       "997    [Single-player, Multi-player, PvP, Online PvP,...\n",
       "998    [Single-player, Multi-player, Co-op, Online Co...\n",
       "999    [Single-player, Steam Achievements, Full contr...\n",
       "Name: Categories, Length: 988, dtype: object"
      ]
     },
     "execution_count": 66,
     "metadata": {},
     "output_type": "execute_result"
    }
   ],
   "source": [
    "games['Categories'].apply(convert)"
   ]
  },
  {
   "cell_type": "code",
   "execution_count": 67,
   "id": "bad6a974-b88b-4bf4-916c-4147fdfb7489",
   "metadata": {},
   "outputs": [],
   "source": [
    "games['Categories'] = games['Categories'].apply(convert)"
   ]
  },
  {
   "cell_type": "code",
   "execution_count": 68,
   "id": "bd3c09e8-0381-4254-ad65-b10e471de652",
   "metadata": {},
   "outputs": [
    {
     "data": {
      "text/html": [
       "<div>\n",
       "<style scoped>\n",
       "    .dataframe tbody tr th:only-of-type {\n",
       "        vertical-align: middle;\n",
       "    }\n",
       "\n",
       "    .dataframe tbody tr th {\n",
       "        vertical-align: top;\n",
       "    }\n",
       "\n",
       "    .dataframe thead th {\n",
       "        text-align: right;\n",
       "    }\n",
       "</style>\n",
       "<table border=\"1\" class=\"dataframe\">\n",
       "  <thead>\n",
       "    <tr style=\"text-align: right;\">\n",
       "      <th></th>\n",
       "      <th>ID</th>\n",
       "      <th>Title</th>\n",
       "      <th>Description</th>\n",
       "      <th>Developers</th>\n",
       "      <th>Publishers</th>\n",
       "      <th>Categories</th>\n",
       "      <th>Genres</th>\n",
       "    </tr>\n",
       "  </thead>\n",
       "  <tbody>\n",
       "    <tr>\n",
       "      <th>0</th>\n",
       "      <td>10</td>\n",
       "      <td>Counter-Strike</td>\n",
       "      <td>Play the world's number 1 online action game. ...</td>\n",
       "      <td>['Valve']</td>\n",
       "      <td>['Valve']</td>\n",
       "      <td>[Multi-player, PvP, Online PvP, Shared/Split S...</td>\n",
       "      <td>[{'id': '1', 'description': 'Action'}]</td>\n",
       "    </tr>\n",
       "  </tbody>\n",
       "</table>\n",
       "</div>"
      ],
      "text/plain": [
       "   ID           Title                                        Description  \\\n",
       "0  10  Counter-Strike  Play the world's number 1 online action game. ...   \n",
       "\n",
       "  Developers Publishers                                         Categories  \\\n",
       "0  ['Valve']  ['Valve']  [Multi-player, PvP, Online PvP, Shared/Split S...   \n",
       "\n",
       "                                   Genres  \n",
       "0  [{'id': '1', 'description': 'Action'}]  "
      ]
     },
     "execution_count": 68,
     "metadata": {},
     "output_type": "execute_result"
    }
   ],
   "source": [
    "games.head(1)"
   ]
  },
  {
   "cell_type": "code",
   "execution_count": 69,
   "id": "6c4447d6-4e53-4813-bf51-73542fff601d",
   "metadata": {},
   "outputs": [
    {
     "data": {
      "text/plain": [
       "0                              [Action]\n",
       "1                              [Action]\n",
       "2                              [Action]\n",
       "3                              [Action]\n",
       "4                              [Action]\n",
       "                     ...               \n",
       "995        [Action, Casual, Indie, RPG]\n",
       "996               [Indie, Early Access]\n",
       "997                            [Action]\n",
       "998    [Adventure, Indie, Early Access]\n",
       "999                 [Action, Adventure]\n",
       "Name: Genres, Length: 988, dtype: object"
      ]
     },
     "execution_count": 69,
     "metadata": {},
     "output_type": "execute_result"
    }
   ],
   "source": [
    "games['Genres'].apply(convert)"
   ]
  },
  {
   "cell_type": "code",
   "execution_count": 70,
   "id": "6a95d819-8545-49f1-985b-b7a7071993a6",
   "metadata": {},
   "outputs": [],
   "source": [
    "games['Genres'] = games['Genres'].apply(convert)"
   ]
  },
  {
   "cell_type": "code",
   "execution_count": 73,
   "id": "d30ce796-e5af-46f1-bf48-8b882c8f71a5",
   "metadata": {},
   "outputs": [
    {
     "data": {
      "text/plain": [
       "\"Play the world's number 1 online action game. Engage in an incredibly realistic brand of terrorist warfare in this wildly popular team-based game. Ally with teammates to complete strategic missions. Take out enemy sites. Rescue hostages. Your role affects your team's success. Your team's success affects your role.\""
      ]
     },
     "execution_count": 73,
     "metadata": {},
     "output_type": "execute_result"
    }
   ],
   "source": [
    "games['Description'][0]"
   ]
  },
  {
   "cell_type": "code",
   "execution_count": 74,
   "id": "975d66a1-e7f8-4d48-9b1c-b771387f0a40",
   "metadata": {},
   "outputs": [
    {
     "data": {
      "text/plain": [
       "0      [Play, the, world's, number, 1, online, action...\n",
       "1      [One, of, the, most, popular, online, action, ...\n",
       "2      [Enlist, in, an, intense, brand, of, Axis, vs....\n",
       "3      [Enjoy, fast-paced, multiplayer, gaming, with,...\n",
       "4      [Return, to, the, Black, Mesa, Research, Facil...\n",
       "                             ...                        \n",
       "995    [<h1>Previous, games</h1><p><a, href=\"https://...\n",
       "996    [Explore, the, seemingly, infinite, expanse, o...\n",
       "997    [<img, src=\"https://cdn.akamai.steamstatic.com...\n",
       "998    [<img, src=\"https://cdn.akamai.steamstatic.com...\n",
       "999    [<h1>Digital, Deluxe, Edition</h1><p><img, src...\n",
       "Name: Description, Length: 988, dtype: object"
      ]
     },
     "execution_count": 74,
     "metadata": {},
     "output_type": "execute_result"
    }
   ],
   "source": [
    "games['Description'].apply(lambda x:x.split())"
   ]
  },
  {
   "cell_type": "code",
   "execution_count": 75,
   "id": "c4391845-52b6-4546-a4d9-02b432c1cc4d",
   "metadata": {},
   "outputs": [],
   "source": [
    "games['Description'] = games['Description'].apply(lambda x:x.split())"
   ]
  },
  {
   "cell_type": "code",
   "execution_count": 76,
   "id": "2ee72276-3fb6-4dac-b54b-5cc1f675091d",
   "metadata": {},
   "outputs": [
    {
     "data": {
      "text/html": [
       "<div>\n",
       "<style scoped>\n",
       "    .dataframe tbody tr th:only-of-type {\n",
       "        vertical-align: middle;\n",
       "    }\n",
       "\n",
       "    .dataframe tbody tr th {\n",
       "        vertical-align: top;\n",
       "    }\n",
       "\n",
       "    .dataframe thead th {\n",
       "        text-align: right;\n",
       "    }\n",
       "</style>\n",
       "<table border=\"1\" class=\"dataframe\">\n",
       "  <thead>\n",
       "    <tr style=\"text-align: right;\">\n",
       "      <th></th>\n",
       "      <th>ID</th>\n",
       "      <th>Title</th>\n",
       "      <th>Description</th>\n",
       "      <th>Developers</th>\n",
       "      <th>Publishers</th>\n",
       "      <th>Categories</th>\n",
       "      <th>Genres</th>\n",
       "    </tr>\n",
       "  </thead>\n",
       "  <tbody>\n",
       "    <tr>\n",
       "      <th>0</th>\n",
       "      <td>10</td>\n",
       "      <td>Counter-Strike</td>\n",
       "      <td>[Play, the, world's, number, 1, online, action...</td>\n",
       "      <td>['Valve']</td>\n",
       "      <td>['Valve']</td>\n",
       "      <td>[Multi-player, PvP, Online PvP, Shared/Split S...</td>\n",
       "      <td>[Action]</td>\n",
       "    </tr>\n",
       "  </tbody>\n",
       "</table>\n",
       "</div>"
      ],
      "text/plain": [
       "   ID           Title                                        Description  \\\n",
       "0  10  Counter-Strike  [Play, the, world's, number, 1, online, action...   \n",
       "\n",
       "  Developers Publishers                                         Categories  \\\n",
       "0  ['Valve']  ['Valve']  [Multi-player, PvP, Online PvP, Shared/Split S...   \n",
       "\n",
       "     Genres  \n",
       "0  [Action]  "
      ]
     },
     "execution_count": 76,
     "metadata": {},
     "output_type": "execute_result"
    }
   ],
   "source": [
    "games.head(1)"
   ]
  },
  {
   "cell_type": "code",
   "execution_count": 77,
   "id": "d4643572-aa69-454b-aaf1-41c3db403c95",
   "metadata": {},
   "outputs": [
    {
     "data": {
      "text/plain": [
       "0      [Multi-player, PvP, OnlinePvP, Shared/SplitScr...\n",
       "1      [Multi-player, PvP, OnlinePvP, Shared/SplitScr...\n",
       "2                 [Multi-player, ValveAnti-Cheatenabled]\n",
       "3      [Multi-player, PvP, OnlinePvP, Shared/SplitScr...\n",
       "4      [Single-player, Multi-player, ValveAnti-Cheate...\n",
       "                             ...                        \n",
       "995    [Single-player, SteamAchievements, Fullcontrol...\n",
       "996    [Single-player, Multi-player, Co-op, OnlineCo-...\n",
       "997    [Single-player, Multi-player, PvP, OnlinePvP, ...\n",
       "998    [Single-player, Multi-player, Co-op, OnlineCo-...\n",
       "999    [Single-player, SteamAchievements, Fullcontrol...\n",
       "Name: Categories, Length: 988, dtype: object"
      ]
     },
     "execution_count": 77,
     "metadata": {},
     "output_type": "execute_result"
    }
   ],
   "source": [
    "games['Categories'].apply(lambda x:[i.replace(\" \",\"\") for i in x])"
   ]
  },
  {
   "cell_type": "code",
   "execution_count": 78,
   "id": "b16af7be-c0eb-4a40-a9b3-ccae8a88e2f5",
   "metadata": {},
   "outputs": [],
   "source": [
    "games['Categories'] = games['Categories'].apply(lambda x:[i.replace(\" \",\"\") for i in x])"
   ]
  },
  {
   "cell_type": "code",
   "execution_count": 79,
   "id": "a779b940-54cf-4fb0-becd-9df20ff895e9",
   "metadata": {},
   "outputs": [],
   "source": [
    "games['Genres'] = games['Genres'].apply(lambda x:[i.replace(\" \",\"\") for i in x])"
   ]
  },
  {
   "cell_type": "code",
   "execution_count": 80,
   "id": "8df7de19-2699-4720-9730-8dc99e883d72",
   "metadata": {},
   "outputs": [
    {
     "data": {
      "text/html": [
       "<div>\n",
       "<style scoped>\n",
       "    .dataframe tbody tr th:only-of-type {\n",
       "        vertical-align: middle;\n",
       "    }\n",
       "\n",
       "    .dataframe tbody tr th {\n",
       "        vertical-align: top;\n",
       "    }\n",
       "\n",
       "    .dataframe thead th {\n",
       "        text-align: right;\n",
       "    }\n",
       "</style>\n",
       "<table border=\"1\" class=\"dataframe\">\n",
       "  <thead>\n",
       "    <tr style=\"text-align: right;\">\n",
       "      <th></th>\n",
       "      <th>ID</th>\n",
       "      <th>Title</th>\n",
       "      <th>Description</th>\n",
       "      <th>Developers</th>\n",
       "      <th>Publishers</th>\n",
       "      <th>Categories</th>\n",
       "      <th>Genres</th>\n",
       "    </tr>\n",
       "  </thead>\n",
       "  <tbody>\n",
       "    <tr>\n",
       "      <th>0</th>\n",
       "      <td>10</td>\n",
       "      <td>Counter-Strike</td>\n",
       "      <td>[Play, the, world's, number, 1, online, action...</td>\n",
       "      <td>['Valve']</td>\n",
       "      <td>['Valve']</td>\n",
       "      <td>[Multi-player, PvP, OnlinePvP, Shared/SplitScr...</td>\n",
       "      <td>[Action]</td>\n",
       "    </tr>\n",
       "  </tbody>\n",
       "</table>\n",
       "</div>"
      ],
      "text/plain": [
       "   ID           Title                                        Description  \\\n",
       "0  10  Counter-Strike  [Play, the, world's, number, 1, online, action...   \n",
       "\n",
       "  Developers Publishers                                         Categories  \\\n",
       "0  ['Valve']  ['Valve']  [Multi-player, PvP, OnlinePvP, Shared/SplitScr...   \n",
       "\n",
       "     Genres  \n",
       "0  [Action]  "
      ]
     },
     "execution_count": 80,
     "metadata": {},
     "output_type": "execute_result"
    }
   ],
   "source": [
    "games.head(1)"
   ]
  },
  {
   "cell_type": "code",
   "execution_count": 81,
   "id": "e3db368c-de84-4629-85e9-9aecf4c03bc1",
   "metadata": {},
   "outputs": [
    {
     "data": {
      "text/plain": [
       "\"['Valve']\""
      ]
     },
     "execution_count": 81,
     "metadata": {},
     "output_type": "execute_result"
    }
   ],
   "source": [
    "games.iloc[0].Developers"
   ]
  },
  {
   "cell_type": "code",
   "execution_count": 82,
   "id": "68e59c86-c19e-45fd-9237-6a1fc71ce43c",
   "metadata": {},
   "outputs": [
    {
     "data": {
      "text/plain": [
       "['Valve']"
      ]
     },
     "execution_count": 82,
     "metadata": {},
     "output_type": "execute_result"
    }
   ],
   "source": [
    "ast.literal_eval(\"['Valve']\")"
   ]
  },
  {
   "cell_type": "code",
   "execution_count": 83,
   "id": "f90c4ef9-00a0-4921-a667-4f65d91277f3",
   "metadata": {},
   "outputs": [],
   "source": [
    "def convert(obj):\n",
    "    try:\n",
    "        return ast.literal_eval(obj)\n",
    "    except (ValueError, SyntaxError):\n",
    "        return obj"
   ]
  },
  {
   "cell_type": "code",
   "execution_count": 84,
   "id": "91685e41-4703-4b3a-b3b8-9e836a1199cb",
   "metadata": {},
   "outputs": [
    {
     "data": {
      "text/plain": [
       "0                 [Valve]\n",
       "1                 [Valve]\n",
       "2                 [Valve]\n",
       "3                 [Valve]\n",
       "4      [Gearbox Software]\n",
       "              ...        \n",
       "995            [Blobfish]\n",
       "996         [Fancy Games]\n",
       "997           [TREBUCHET]\n",
       "998            [MrFatcat]\n",
       "999    [CAPCOM Co., Ltd.]\n",
       "Name: Developers, Length: 988, dtype: object"
      ]
     },
     "execution_count": 84,
     "metadata": {},
     "output_type": "execute_result"
    }
   ],
   "source": [
    "games['Developers'].apply(convert)"
   ]
  },
  {
   "cell_type": "code",
   "execution_count": 85,
   "id": "3e8c7633-1dc2-475c-b9f8-f633dc7b7ee5",
   "metadata": {},
   "outputs": [
    {
     "data": {
      "text/plain": [
       "0                    [Valve]\n",
       "1                    [Valve]\n",
       "2                    [Valve]\n",
       "3                    [Valve]\n",
       "4                    [Valve]\n",
       "               ...          \n",
       "995               [Blobfish]\n",
       "996            [Fancy Games]\n",
       "997      [Fast Travel Games]\n",
       "998    [MrFatcat, Dropsiick]\n",
       "999       [CAPCOM Co., Ltd.]\n",
       "Name: Publishers, Length: 988, dtype: object"
      ]
     },
     "execution_count": 85,
     "metadata": {},
     "output_type": "execute_result"
    }
   ],
   "source": [
    "games['Publishers'].apply(convert)"
   ]
  },
  {
   "cell_type": "code",
   "execution_count": 86,
   "id": "746ec7f7-7795-4acf-a431-47fc5ff04d0e",
   "metadata": {},
   "outputs": [],
   "source": [
    "games['Developers'] = games['Developers'].apply(convert)\n",
    "games['Publishers'] = games['Publishers'].apply(convert)"
   ]
  },
  {
   "cell_type": "code",
   "execution_count": 87,
   "id": "7ff2a602-21ac-4143-a389-39844330eb8d",
   "metadata": {},
   "outputs": [],
   "source": [
    "games['Developers'] = games['Developers'].apply(lambda x:[i.replace(\" \",\"\") for i in x])\n",
    "games['Publishers'] = games['Publishers'].apply(lambda x:[i.replace(\" \",\"\") for i in x])"
   ]
  },
  {
   "cell_type": "code",
   "execution_count": 88,
   "id": "9b2f7b3d-f174-476b-91f5-47abe17bc3c6",
   "metadata": {},
   "outputs": [
    {
     "data": {
      "text/html": [
       "<div>\n",
       "<style scoped>\n",
       "    .dataframe tbody tr th:only-of-type {\n",
       "        vertical-align: middle;\n",
       "    }\n",
       "\n",
       "    .dataframe tbody tr th {\n",
       "        vertical-align: top;\n",
       "    }\n",
       "\n",
       "    .dataframe thead th {\n",
       "        text-align: right;\n",
       "    }\n",
       "</style>\n",
       "<table border=\"1\" class=\"dataframe\">\n",
       "  <thead>\n",
       "    <tr style=\"text-align: right;\">\n",
       "      <th></th>\n",
       "      <th>ID</th>\n",
       "      <th>Title</th>\n",
       "      <th>Description</th>\n",
       "      <th>Developers</th>\n",
       "      <th>Publishers</th>\n",
       "      <th>Categories</th>\n",
       "      <th>Genres</th>\n",
       "    </tr>\n",
       "  </thead>\n",
       "  <tbody>\n",
       "    <tr>\n",
       "      <th>0</th>\n",
       "      <td>10</td>\n",
       "      <td>Counter-Strike</td>\n",
       "      <td>[Play, the, world's, number, 1, online, action...</td>\n",
       "      <td>[Valve]</td>\n",
       "      <td>[Valve]</td>\n",
       "      <td>[Multi-player, PvP, OnlinePvP, Shared/SplitScr...</td>\n",
       "      <td>[Action]</td>\n",
       "    </tr>\n",
       "  </tbody>\n",
       "</table>\n",
       "</div>"
      ],
      "text/plain": [
       "   ID           Title                                        Description  \\\n",
       "0  10  Counter-Strike  [Play, the, world's, number, 1, online, action...   \n",
       "\n",
       "  Developers Publishers                                         Categories  \\\n",
       "0    [Valve]    [Valve]  [Multi-player, PvP, OnlinePvP, Shared/SplitScr...   \n",
       "\n",
       "     Genres  \n",
       "0  [Action]  "
      ]
     },
     "execution_count": 88,
     "metadata": {},
     "output_type": "execute_result"
    }
   ],
   "source": [
    "games.head(1)"
   ]
  },
  {
   "cell_type": "code",
   "execution_count": 89,
   "id": "cabb9e55-1290-4432-89ad-2ffb55e78af4",
   "metadata": {},
   "outputs": [],
   "source": [
    "games[\"Tags\"] = games['Description'] + games['Developers'] + games['Publishers'] + games['Categories'] + games['Genres']"
   ]
  },
  {
   "cell_type": "code",
   "execution_count": 90,
   "id": "f01b1b2c-1a9a-4e24-868d-f84a8efe3be2",
   "metadata": {},
   "outputs": [],
   "source": [
    "Games = games[['ID', 'Title', 'Tags']]"
   ]
  },
  {
   "cell_type": "code",
   "execution_count": 91,
   "id": "207f90c2-7469-4260-84cc-682be1a2f167",
   "metadata": {},
   "outputs": [
    {
     "data": {
      "text/html": [
       "<div>\n",
       "<style scoped>\n",
       "    .dataframe tbody tr th:only-of-type {\n",
       "        vertical-align: middle;\n",
       "    }\n",
       "\n",
       "    .dataframe tbody tr th {\n",
       "        vertical-align: top;\n",
       "    }\n",
       "\n",
       "    .dataframe thead th {\n",
       "        text-align: right;\n",
       "    }\n",
       "</style>\n",
       "<table border=\"1\" class=\"dataframe\">\n",
       "  <thead>\n",
       "    <tr style=\"text-align: right;\">\n",
       "      <th></th>\n",
       "      <th>ID</th>\n",
       "      <th>Title</th>\n",
       "      <th>Tags</th>\n",
       "    </tr>\n",
       "  </thead>\n",
       "  <tbody>\n",
       "    <tr>\n",
       "      <th>0</th>\n",
       "      <td>10</td>\n",
       "      <td>Counter-Strike</td>\n",
       "      <td>[Play, the, world's, number, 1, online, action...</td>\n",
       "    </tr>\n",
       "  </tbody>\n",
       "</table>\n",
       "</div>"
      ],
      "text/plain": [
       "   ID           Title                                               Tags\n",
       "0  10  Counter-Strike  [Play, the, world's, number, 1, online, action..."
      ]
     },
     "execution_count": 91,
     "metadata": {},
     "output_type": "execute_result"
    }
   ],
   "source": [
    "Games.head(1)"
   ]
  },
  {
   "cell_type": "code",
   "execution_count": 92,
   "id": "e9500e4f-94e2-4d19-a792-99b60f3fe68d",
   "metadata": {},
   "outputs": [
    {
     "data": {
      "text/plain": [
       "0      Play the world's number 1 online action game. ...\n",
       "1      One of the most popular online action games of...\n",
       "2      Enlist in an intense brand of Axis vs. Allied ...\n",
       "3      Enjoy fast-paced multiplayer gaming with Death...\n",
       "4      Return to the Black Mesa Research Facility as ...\n",
       "                             ...                        \n",
       "995    <h1>Previous games</h1><p><a href=\"https://sto...\n",
       "996    Explore the seemingly infinite expanse of eeri...\n",
       "997    <img src=\"https://cdn.akamai.steamstatic.com/s...\n",
       "998    <img src=\"https://cdn.akamai.steamstatic.com/s...\n",
       "999    <h1>Digital Deluxe Edition</h1><p><img src=\"ht...\n",
       "Name: Tags, Length: 988, dtype: object"
      ]
     },
     "execution_count": 92,
     "metadata": {},
     "output_type": "execute_result"
    }
   ],
   "source": [
    "Games['Tags'].apply(lambda x: \" \".join(x))"
   ]
  },
  {
   "cell_type": "code",
   "execution_count": 93,
   "id": "554de7e2-d5ab-4ab3-b1de-dac685cd7ca1",
   "metadata": {},
   "outputs": [
    {
     "name": "stderr",
     "output_type": "stream",
     "text": [
      "C:\\Users\\sanji\\AppData\\Local\\Temp\\ipykernel_6504\\523301886.py:1: SettingWithCopyWarning: \n",
      "A value is trying to be set on a copy of a slice from a DataFrame.\n",
      "Try using .loc[row_indexer,col_indexer] = value instead\n",
      "\n",
      "See the caveats in the documentation: https://pandas.pydata.org/pandas-docs/stable/user_guide/indexing.html#returning-a-view-versus-a-copy\n",
      "  Games['Tags'] = Games['Tags'].apply(lambda x: \" \".join(x))\n"
     ]
    }
   ],
   "source": [
    "Games['Tags'] = Games['Tags'].apply(lambda x: \" \".join(x))"
   ]
  },
  {
   "cell_type": "code",
   "execution_count": 94,
   "id": "39618b1e-3a81-4655-af72-6bb4379b2ea1",
   "metadata": {},
   "outputs": [],
   "source": [
    "import nltk\n",
    "from nltk.stem.porter import PorterStemmer\n",
    "ps = PorterStemmer()"
   ]
  },
  {
   "cell_type": "code",
   "execution_count": 96,
   "id": "1fae2c20-68ea-4390-b5af-8d7655ab1726",
   "metadata": {},
   "outputs": [],
   "source": [
    "def stem(text):\n",
    "    y = []\n",
    "    for i in text.split():\n",
    "        y.append(ps.stem(i))\n",
    "    return \" \".join(y)"
   ]
  },
  {
   "cell_type": "code",
   "execution_count": 97,
   "id": "18e02656-467e-4962-a3a2-51e43ad2fa07",
   "metadata": {},
   "outputs": [
    {
     "name": "stderr",
     "output_type": "stream",
     "text": [
      "C:\\Users\\sanji\\AppData\\Local\\Temp\\ipykernel_6504\\2824742703.py:1: SettingWithCopyWarning: \n",
      "A value is trying to be set on a copy of a slice from a DataFrame.\n",
      "Try using .loc[row_indexer,col_indexer] = value instead\n",
      "\n",
      "See the caveats in the documentation: https://pandas.pydata.org/pandas-docs/stable/user_guide/indexing.html#returning-a-view-versus-a-copy\n",
      "  Games['Tags'] = Games['Tags'].apply(stem)\n"
     ]
    }
   ],
   "source": [
    "Games['Tags'] = Games['Tags'].apply(stem)"
   ]
  },
  {
   "cell_type": "code",
   "execution_count": 99,
   "id": "325f536c-63ef-4f97-9c56-2a6f12fae84c",
   "metadata": {},
   "outputs": [
    {
     "data": {
      "text/plain": [
       "0      play the world' number 1 onlin action game. en...\n",
       "1      one of the most popular onlin action game of a...\n",
       "2      enlist in an intens brand of axi vs. alli team...\n",
       "3      enjoy fast-pac multiplay game with deathmatch ...\n",
       "4      return to the black mesa research facil as one...\n",
       "                             ...                        \n",
       "995    <h1>previou games</h1><p><a href=\"https://stor...\n",
       "996    explor the seemingli infinit expans of eerili ...\n",
       "997    <img src=\"https://cdn.akamai.steamstatic.com/s...\n",
       "998    <img src=\"https://cdn.akamai.steamstatic.com/s...\n",
       "999    <h1>digit delux edition</h1><p><img src=\"https...\n",
       "Name: Tags, Length: 988, dtype: object"
      ]
     },
     "execution_count": 99,
     "metadata": {},
     "output_type": "execute_result"
    }
   ],
   "source": [
    "Games['Tags'].apply(lambda x:x.lower())"
   ]
  },
  {
   "cell_type": "code",
   "execution_count": 100,
   "id": "64c9be5a-5b90-429d-834d-6d3a27bdc165",
   "metadata": {},
   "outputs": [
    {
     "name": "stderr",
     "output_type": "stream",
     "text": [
      "C:\\Users\\sanji\\AppData\\Local\\Temp\\ipykernel_6504\\2493331982.py:1: SettingWithCopyWarning: \n",
      "A value is trying to be set on a copy of a slice from a DataFrame.\n",
      "Try using .loc[row_indexer,col_indexer] = value instead\n",
      "\n",
      "See the caveats in the documentation: https://pandas.pydata.org/pandas-docs/stable/user_guide/indexing.html#returning-a-view-versus-a-copy\n",
      "  Games['Tags'] = Games['Tags'].apply(lambda x:x.lower())\n"
     ]
    }
   ],
   "source": [
    "Games['Tags'] = Games['Tags'].apply(lambda x:x.lower())"
   ]
  },
  {
   "cell_type": "code",
   "execution_count": 101,
   "id": "6b35a340-be20-4600-bcad-cdeefbc6607a",
   "metadata": {},
   "outputs": [
    {
     "data": {
      "text/html": [
       "<div>\n",
       "<style scoped>\n",
       "    .dataframe tbody tr th:only-of-type {\n",
       "        vertical-align: middle;\n",
       "    }\n",
       "\n",
       "    .dataframe tbody tr th {\n",
       "        vertical-align: top;\n",
       "    }\n",
       "\n",
       "    .dataframe thead th {\n",
       "        text-align: right;\n",
       "    }\n",
       "</style>\n",
       "<table border=\"1\" class=\"dataframe\">\n",
       "  <thead>\n",
       "    <tr style=\"text-align: right;\">\n",
       "      <th></th>\n",
       "      <th>ID</th>\n",
       "      <th>Title</th>\n",
       "      <th>Tags</th>\n",
       "    </tr>\n",
       "  </thead>\n",
       "  <tbody>\n",
       "    <tr>\n",
       "      <th>0</th>\n",
       "      <td>10</td>\n",
       "      <td>Counter-Strike</td>\n",
       "      <td>play the world' number 1 onlin action game. en...</td>\n",
       "    </tr>\n",
       "    <tr>\n",
       "      <th>1</th>\n",
       "      <td>20</td>\n",
       "      <td>Team Fortress Classic</td>\n",
       "      <td>one of the most popular onlin action game of a...</td>\n",
       "    </tr>\n",
       "    <tr>\n",
       "      <th>2</th>\n",
       "      <td>30</td>\n",
       "      <td>Day of Defeat</td>\n",
       "      <td>enlist in an intens brand of axi vs. alli team...</td>\n",
       "    </tr>\n",
       "    <tr>\n",
       "      <th>3</th>\n",
       "      <td>40</td>\n",
       "      <td>Deathmatch Classic</td>\n",
       "      <td>enjoy fast-pac multiplay game with deathmatch ...</td>\n",
       "    </tr>\n",
       "    <tr>\n",
       "      <th>4</th>\n",
       "      <td>50</td>\n",
       "      <td>Half-Life: Opposing Force</td>\n",
       "      <td>return to the black mesa research facil as one...</td>\n",
       "    </tr>\n",
       "  </tbody>\n",
       "</table>\n",
       "</div>"
      ],
      "text/plain": [
       "   ID                      Title  \\\n",
       "0  10             Counter-Strike   \n",
       "1  20      Team Fortress Classic   \n",
       "2  30              Day of Defeat   \n",
       "3  40         Deathmatch Classic   \n",
       "4  50  Half-Life: Opposing Force   \n",
       "\n",
       "                                                Tags  \n",
       "0  play the world' number 1 onlin action game. en...  \n",
       "1  one of the most popular onlin action game of a...  \n",
       "2  enlist in an intens brand of axi vs. alli team...  \n",
       "3  enjoy fast-pac multiplay game with deathmatch ...  \n",
       "4  return to the black mesa research facil as one...  "
      ]
     },
     "execution_count": 101,
     "metadata": {},
     "output_type": "execute_result"
    }
   ],
   "source": [
    "Games.head()"
   ]
  },
  {
   "cell_type": "code",
   "execution_count": 102,
   "id": "9ffcbb9c-047b-4441-9b61-5f66e110090d",
   "metadata": {},
   "outputs": [],
   "source": [
    "from sklearn.feature_extraction.text import CountVectorizer\n",
    "cv = CountVectorizer(max_features = 1000, stop_words = 'english')"
   ]
  },
  {
   "cell_type": "code",
   "execution_count": 104,
   "id": "be481ced-c234-46a9-8ff6-fa3705967937",
   "metadata": {},
   "outputs": [],
   "source": [
    "vectors = cv.fit_transform(Games['Tags']).toarray()"
   ]
  },
  {
   "cell_type": "code",
   "execution_count": 105,
   "id": "0d6f60e2-f427-4766-8333-dfbab1579dc2",
   "metadata": {},
   "outputs": [
    {
     "data": {
      "text/plain": [
       "array([[0, 0, 0, ..., 0, 0, 0],\n",
       "       [0, 0, 0, ..., 0, 0, 0],\n",
       "       [0, 0, 0, ..., 0, 0, 0],\n",
       "       ...,\n",
       "       [0, 0, 0, ..., 0, 0, 0],\n",
       "       [0, 0, 0, ..., 0, 0, 0],\n",
       "       [0, 0, 0, ..., 0, 0, 0]], dtype=int64)"
      ]
     },
     "execution_count": 105,
     "metadata": {},
     "output_type": "execute_result"
    }
   ],
   "source": [
    "vectors"
   ]
  },
  {
   "cell_type": "code",
   "execution_count": 106,
   "id": "892d5a7a-35a5-444d-a7f6-247bf7751d1e",
   "metadata": {},
   "outputs": [],
   "source": [
    "from sklearn.metrics.pairwise import cosine_similarity\n",
    "\n",
    "similarity = cosine_similarity(vectors)"
   ]
  },
  {
   "cell_type": "code",
   "execution_count": 107,
   "id": "a80bcb0a-dd08-467f-afc9-1810a8e6c434",
   "metadata": {},
   "outputs": [
    {
     "data": {
      "text/plain": [
       "array([[1.        , 0.56779227, 0.29531221, ..., 0.05093716, 0.07987467,\n",
       "        0.04715986],\n",
       "       [0.56779227, 1.        , 0.29809065, ..., 0.08837194, 0.1142204 ,\n",
       "        0.04958705],\n",
       "       [0.29531221, 0.29809065, 1.        , ..., 0.05014122, 0.04612757,\n",
       "        0.01237945],\n",
       "       ...,\n",
       "       [0.05093716, 0.08837194, 0.05014122, ..., 1.        , 0.54473884,\n",
       "        0.6912968 ],\n",
       "       [0.07987467, 0.1142204 , 0.04612757, ..., 0.54473884, 1.        ,\n",
       "        0.50169239],\n",
       "       [0.04715986, 0.04958705, 0.01237945, ..., 0.6912968 , 0.50169239,\n",
       "        1.        ]])"
      ]
     },
     "execution_count": 107,
     "metadata": {},
     "output_type": "execute_result"
    }
   ],
   "source": [
    "similarity"
   ]
  },
  {
   "cell_type": "code",
   "execution_count": 110,
   "id": "ee32dc32-07ed-4407-a297-f13bd006eea0",
   "metadata": {},
   "outputs": [],
   "source": [
    "def recommend(Game):\n",
    "    Game_index = Games[Games['Title'] == Game].index[0]\n",
    "    distances = similarity[Game_index]\n",
    "    Games_list = sorted(list(enumerate(distances)), reverse = True, key = lambda x:x[1])[1:6]\n",
    "\n",
    "    for i in Games_list:\n",
    "        print(Games.iloc[i[0]].Title)"
   ]
  },
  {
   "cell_type": "code",
   "execution_count": 112,
   "id": "38ecb8bc-e361-4797-ab02-624ebf12f1ed",
   "metadata": {},
   "outputs": [
    {
     "name": "stdout",
     "output_type": "stream",
     "text": [
      "Ricochet\n",
      "Counter-Strike\n",
      "Deathmatch Classic\n",
      "Counter-Strike: Global Offensive\n",
      "Half-Life\n"
     ]
    }
   ],
   "source": [
    "recommend('Team Fortress Classic')"
   ]
  },
  {
   "cell_type": "code",
   "execution_count": null,
   "id": "19124469-43e5-4ce9-a6bf-34c8966f5bc4",
   "metadata": {},
   "outputs": [],
   "source": []
  }
 ],
 "metadata": {
  "kernelspec": {
   "display_name": "Python 3 (ipykernel)",
   "language": "python",
   "name": "python3"
  },
  "language_info": {
   "codemirror_mode": {
    "name": "ipython",
    "version": 3
   },
   "file_extension": ".py",
   "mimetype": "text/x-python",
   "name": "python",
   "nbconvert_exporter": "python",
   "pygments_lexer": "ipython3",
   "version": "3.11.5"
  }
 },
 "nbformat": 4,
 "nbformat_minor": 5
}
